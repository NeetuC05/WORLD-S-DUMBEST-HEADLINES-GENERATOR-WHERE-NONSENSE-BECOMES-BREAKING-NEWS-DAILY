# WORLD-S-DUMBEST-HEADLINES-GENERATOR-WHERE-NONSENSE-BECOMES-BREAKING-NEWS-DAILY

# This Python project is designed to generate random, humorous, and absurd news headlines using predefined word lists. The headlines are constructed by randomly selecting words from several creative categories like Subjects, Objects, Actions, Places, Sports, and Politics. It's interactive, engaging, and showcases how simple logic can lead to entertaining results.


import random

# Step 1: Define headline templates
templates = [
    "BREAKING: {subject} {action} {object} {location}!",
    "EXCLUSIVE: {subject} caught while {action} {object} {location}.",
    "SHOCKING: {subject} {action} {object} {location}!",
    "TRENDING: {subject} {action} {object} {location}!",
    "YOU WON’T BELIEVE: {subject} {action} {object} {location}!",
    "LEAKED VIDEO: {subject} {action} {object} {location}!",
    "MYSTERY: Why {subject} keeps {action} {object} {location}?",
    "REPORT: {subject} {action} {object} repeatedly {location}."
]

# Step 2: Define word lists for each category

# Funny category
funny_subjects = ["Alien", "Grandma", "Cat", "Politician", "Robot", "Banana", "Ghost", "Chicken", "Zombie"]
funny_actions = ["eats", "dances with", "steals", "sings to", "juggles", "licks"]
funny_objects = ["pizza", "UFO", "socks", "selfie stick", "teddy bear"]
funny_locations = ["in Delhi", "on the moon", "at school", "inside a fridge", "on Instagram"]

# Sports category
sports_subjects = ["Cricketer", "Goalkeeper", "Kabaddi Star", "Boxer", "Umpire"]
sports_actions = ["kicks", "punches", "dribbles", "misses", "celebrates with"]
sports_objects = ["cricket bat", "football", "trophy", "sports drink", "tennis ball"]
sports_locations = ["in the locker room", "at the World Cup", "on the field", "in penalty area"]

# Politics category
politics_subjects = ["President", "Prime Minister", "Local MLA", "Party Leader", "News Anchor"]
politics_actions = ["blames", "hugs", "throws chai at", "debates with", "argues with"]
politics_objects = ["manifesto", "mike", "ballot box", "parliament chair", "flag"]
politics_locations = ["in Parliament", "on a live debate", "at a protest rally", "in the cabinet meeting"]

# Step 3: Main program starts
print("📰 Welcome to the FAKE + FUNNY News Headline Generator!\n")

while True:
    # Step 4: Ask user for category input
    category = input("Choose a category (funny / sports / politics): ").strip().lower()

    # Step 5: Pick words based on selected category
    if category == "funny":
        subject = random.choice(funny_subjects)
        action = random.choice(funny_actions)
        object_ = random.choice(funny_objects)
        location = random.choice(funny_locations)

    elif category == "sports":
        subject = random.choice(sports_subjects)
        action = random.choice(sports_actions)
        object_ = random.choice(sports_objects)
        location = random.choice(sports_locations)

    elif category == "politics":
        subject = random.choice(politics_subjects)
        action = random.choice(politics_actions)
        object_ = random.choice(politics_objects)
        location = random.choice(politics_locations)

    else:
        print("❌ Invalid category. Please choose from: funny, sports, or politics.\n")
        continue

    # Step 6: Generate headline using template
    template = random.choice(templates)
    headline = template.format(subject=subject, action=action, object=object_, location=location)

    # Step 7: Display the generated headline
    print("\n🗞️  HEADLINE:")
    print(headline)

    # Step 8: Ask the user whether to generate another headline
    again = input("\nDo you want another headline? (yes/no): ").strip().lower()
    if again != "yes":
        print("\n✅ Thanks for reading the world's weirdest news! 😄")
        break
