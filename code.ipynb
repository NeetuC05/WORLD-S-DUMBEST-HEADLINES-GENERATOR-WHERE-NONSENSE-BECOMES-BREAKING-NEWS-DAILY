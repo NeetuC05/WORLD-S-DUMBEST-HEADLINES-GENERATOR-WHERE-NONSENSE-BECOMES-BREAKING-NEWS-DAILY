{
 "cells": [
  {
   "cell_type": "code",
   "execution_count": 1,
   "id": "4b860758-8159-4867-a725-7f57f8a17ca3",
   "metadata": {},
   "outputs": [
    {
     "name": "stdout",
     "output_type": "stream",
     "text": [
      "📰 Welcome to the FAKE + FUNNY News Headline Generator!\n",
      "\n"
     ]
    },
    {
     "name": "stdin",
     "output_type": "stream",
     "text": [
      "Choose a category (funny / sports / politics):  funny\n"
     ]
    },
    {
     "name": "stdout",
     "output_type": "stream",
     "text": [
      "\n",
      "🗞️  HEADLINE:\n",
      "REPORT: Zombie dances with teddy bear repeatedly at school.\n"
     ]
    },
    {
     "name": "stdin",
     "output_type": "stream",
     "text": [
      "\n",
      "Do you want another headline? (yes/no):  yes\n",
      "Choose a category (funny / sports / politics):  sports\n"
     ]
    },
    {
     "name": "stdout",
     "output_type": "stream",
     "text": [
      "\n",
      "🗞️  HEADLINE:\n",
      "BREAKING: Goalkeeper misses trophy in the locker room!\n"
     ]
    },
    {
     "name": "stdin",
     "output_type": "stream",
     "text": [
      "\n",
      "Do you want another headline? (yes/no):  politics\n"
     ]
    },
    {
     "name": "stdout",
     "output_type": "stream",
     "text": [
      "\n",
      "✅ Thanks for reading the world's weirdest news! 😄\n"
     ]
    }
   ],
   "source": [
    "import random\n",
    "\n",
    "# Step 1: Define headline templates\n",
    "templates = [\n",
    "    \"BREAKING: {subject} {action} {object} {location}!\",\n",
    "    \"EXCLUSIVE: {subject} caught while {action} {object} {location}.\",\n",
    "    \"SHOCKING: {subject} {action} {object} {location}!\",\n",
    "    \"TRENDING: {subject} {action} {object} {location}!\",\n",
    "    \"YOU WON’T BELIEVE: {subject} {action} {object} {location}!\",\n",
    "    \"LEAKED VIDEO: {subject} {action} {object} {location}!\",\n",
    "    \"MYSTERY: Why {subject} keeps {action} {object} {location}?\",\n",
    "    \"REPORT: {subject} {action} {object} repeatedly {location}.\"\n",
    "]\n",
    "\n",
    "# Step 2: Define word lists for each category\n",
    "\n",
    "# Funny category\n",
    "funny_subjects = [\"Alien\", \"Grandma\", \"Cat\", \"Politician\", \"Robot\", \"Banana\", \"Ghost\", \"Chicken\", \"Zombie\"]\n",
    "funny_actions = [\"eats\", \"dances with\", \"steals\", \"sings to\", \"juggles\", \"licks\"]\n",
    "funny_objects = [\"pizza\", \"UFO\", \"socks\", \"selfie stick\", \"teddy bear\"]\n",
    "funny_locations = [\"in Delhi\", \"on the moon\", \"at school\", \"inside a fridge\", \"on Instagram\"]\n",
    "\n",
    "# Sports category\n",
    "sports_subjects = [\"Cricketer\", \"Goalkeeper\", \"Kabaddi Star\", \"Boxer\", \"Umpire\"]\n",
    "sports_actions = [\"kicks\", \"punches\", \"dribbles\", \"misses\", \"celebrates with\"]\n",
    "sports_objects = [\"cricket bat\", \"football\", \"trophy\", \"sports drink\", \"tennis ball\"]\n",
    "sports_locations = [\"in the locker room\", \"at the World Cup\", \"on the field\", \"in penalty area\"]\n",
    "\n",
    "# Politics category\n",
    "politics_subjects = [\"President\", \"Prime Minister\", \"Local MLA\", \"Party Leader\", \"News Anchor\"]\n",
    "politics_actions = [\"blames\", \"hugs\", \"throws chai at\", \"debates with\", \"argues with\"]\n",
    "politics_objects = [\"manifesto\", \"mike\", \"ballot box\", \"parliament chair\", \"flag\"]\n",
    "politics_locations = [\"in Parliament\", \"on a live debate\", \"at a protest rally\", \"in the cabinet meeting\"]\n",
    "\n",
    "# Step 3: Main program starts\n",
    "print(\"📰 Welcome to the FAKE + FUNNY News Headline Generator!\\n\")\n",
    "\n",
    "while True:\n",
    "    # Step 4: Ask user for category input\n",
    "    category = input(\"Choose a category (funny / sports / politics): \").strip().lower()\n",
    "\n",
    "    # Step 5: Pick words based on selected category\n",
    "    if category == \"funny\":\n",
    "        subject = random.choice(funny_subjects)\n",
    "        action = random.choice(funny_actions)\n",
    "        object_ = random.choice(funny_objects)\n",
    "        location = random.choice(funny_locations)\n",
    "\n",
    "    elif category == \"sports\":\n",
    "        subject = random.choice(sports_subjects)\n",
    "        action = random.choice(sports_actions)\n",
    "        object_ = random.choice(sports_objects)\n",
    "        location = random.choice(sports_locations)\n",
    "\n",
    "    elif category == \"politics\":\n",
    "        subject = random.choice(politics_subjects)\n",
    "        action = random.choice(politics_actions)\n",
    "        object_ = random.choice(politics_objects)\n",
    "        location = random.choice(politics_locations)\n",
    "\n",
    "    else:\n",
    "        print(\"❌ Invalid category. Please choose from: funny, sports, or politics.\\n\")\n",
    "        continue\n",
    "\n",
    "    # Step 6: Generate headline using template\n",
    "    template = random.choice(templates)\n",
    "    headline = template.format(subject=subject, action=action, object=object_, location=location)\n",
    "\n",
    "    # Step 7: Display the generated headline\n",
    "    print(\"\\n🗞️  HEADLINE:\")\n",
    "    print(headline)\n",
    "\n",
    "    # Step 8: Ask the user whether to generate another headline\n",
    "    again = input(\"\\nDo you want another headline? (yes/no): \").strip().lower()\n",
    "    if again != \"yes\":\n",
    "        print(\"\\n✅ Thanks for reading the world's weirdest news! 😄\")\n",
    "        break"
   ]
  },
  {
   "cell_type": "code",
   "execution_count": null,
   "id": "dc77ee8d-1a17-43c5-961c-439ad69bcce4",
   "metadata": {},
   "outputs": [],
   "source": []
  }
 ],
 "metadata": {
  "kernelspec": {
   "display_name": "Python 3 (ipykernel)",
   "language": "python",
   "name": "python3"
  },
  "language_info": {
   "codemirror_mode": {
    "name": "ipython",
    "version": 3
   },
   "file_extension": ".py",
   "mimetype": "text/x-python",
   "name": "python",
   "nbconvert_exporter": "python",
   "pygments_lexer": "ipython3",
   "version": "3.13.5"
  }
 },
 "nbformat": 4,
 "nbformat_minor": 5
}
